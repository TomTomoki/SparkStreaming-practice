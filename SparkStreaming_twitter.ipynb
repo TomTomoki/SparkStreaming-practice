{
 "cells": [
  {
   "cell_type": "markdown",
   "id": "75dc3b49",
   "metadata": {},
   "source": [
    "Spark x Twitter API v2 Stream (Essential access)\n",
    "\n",
    "References:\n",
    "Udemy - Spark and Python for Big Data with PySpark"
   ]
  },
  {
   "cell_type": "code",
   "execution_count": null,
   "id": "7d5fe26c",
   "metadata": {},
   "outputs": [],
   "source": [
    "import tweepy\n",
    "from tweepy import Stream"
   ]
  },
  {
   "cell_type": "code",
   "execution_count": null,
   "id": "7f691155",
   "metadata": {},
   "outputs": [],
   "source": [
    "import socket\n",
    "import json"
   ]
  },
  {
   "cell_type": "code",
   "execution_count": null,
   "id": "b8b3c933",
   "metadata": {},
   "outputs": [],
   "source": [
    "consumer_key = 'xxx'\n",
    "consumer_secret = 'xxx'\n",
    "access_token = 'xxx'\n",
    "access_secret = 'xxx'"
   ]
  },
  {
   "cell_type": "code",
   "execution_count": null,
   "id": "91eb40f9",
   "metadata": {},
   "outputs": [],
   "source": [
    "class TwitterStreamer(Stream):\n",
    "    def __init__(self, *args, c_socket):\n",
    "        super().__init__(*args)\n",
    "        self.client_socket = c_socket\n",
    "        \n",
    "    def on_data(self, data):\n",
    "        try:\n",
    "            msg = json.load(data)\n",
    "            print(msg['text'].encode('utf-8'))\n",
    "            self.client_socket.send(msg['text'].encode('utf-8'))\n",
    "            return True\n",
    "        \n",
    "        except BaseExpetion as e:\n",
    "            print(\"ERROR \", e)\n",
    "        return True\n",
    "    \n",
    "    def on_error(self, status):\n",
    "        print(status)\n",
    "        return True"
   ]
  },
  {
   "cell_type": "code",
   "execution_count": null,
   "id": "a347dd96",
   "metadata": {},
   "outputs": [],
   "source": [
    "def sendData(c_socket):    \n",
    "    #Parameters for constructing a Stream instance are changed from when the Udemy's video was recorded (The version I am using here is Tweepy 4.5), and below don't work anymore\n",
    "    #twitter_stream = TwitterStreamer(consumer_key,\n",
    "    #                               consumer_secret,\n",
    "    #                               access_token,\n",
    "    #                               access_secret,\n",
    "    #                               c_socket=c_socket)\n",
    "    \n",
    "    #myStreamListener = TwitterStreamer(c_socket)\n",
    "    #twitter_stream = Stream(auth, myStreamListener)\n",
    "    \n",
    "    twitter_stream = Stream(consumer_key,consumer_secret, access_token, access_secret)\n",
    "    \n",
    "    twitter_stream.filter(track=['guitar'])"
   ]
  },
  {
   "cell_type": "code",
   "execution_count": null,
   "id": "e7d9a8e5",
   "metadata": {
    "scrolled": true
   },
   "outputs": [],
   "source": [
    "if __name__ == \"__main__\":\n",
    "    s = socket.socket()\n",
    "    host = '127.0.0.1'\n",
    "    port = 7784\n",
    "    s.bind((host, port))\n",
    "    \n",
    "    s.listen(5)\n",
    "    print(\"listening on port {}\".format(port))\n",
    "    \n",
    "    c, addr = s.accept()\n",
    "    print( \"Received request from: \" + str( addr ) )\n",
    "    \n",
    "    sendData(c)"
   ]
  },
  {
   "cell_type": "markdown",
   "id": "a81e0a5f",
   "metadata": {},
   "source": [
    "Above code gave me a 403 error at \"twitter_stream.filter()\", and I wasn't able to stream Tweets. According to the document below, it seems it was due to me having only the Essential access.\n",
    "\n",
    "References:\n",
    "https://docs.tweepy.org/en/latest/faq.html#why-am-i-encountering-a-403-forbidden-error\n",
    "```\n",
    "If you have Essential access to the Twitter API, you won’t be able to access Twitter API v1.1. This includes all API methods and Stream.\n",
    "You can use Twitter API v2 with Client or apply for Elevated access.\n",
    "```\n",
    "\n",
    "So instead, I will try using Twitter API v2 with Client."
   ]
  },
  {
   "cell_type": "markdown",
   "id": "2add7478",
   "metadata": {},
   "source": [
    "Try something similar to above with Twitter API v2 Client's search_recent_tweets function.\n",
    "Since this isn't a stream and gets tweets from the past seven days based on the specified query, I will get some of the same tweets. (But for the purpose of this study, it is fine.)"
   ]
  },
  {
   "cell_type": "code",
   "execution_count": 1,
   "id": "ee2d3909",
   "metadata": {},
   "outputs": [],
   "source": [
    "from tweepy import Client\n",
    "import socket\n",
    "import time"
   ]
  },
  {
   "cell_type": "code",
   "execution_count": 2,
   "id": "c1b08103",
   "metadata": {},
   "outputs": [],
   "source": [
    "bearer_token = 'xxx'\n",
    "consumer_key = 'xxx'\n",
    "consumer_secret = 'xxx'\n",
    "access_token = 'xxx'\n",
    "access_secret = 'xxx'"
   ]
  },
  {
   "cell_type": "code",
   "execution_count": 3,
   "id": "9a2019b4",
   "metadata": {},
   "outputs": [],
   "source": [
    "def get_Tweets(t_c, query):\n",
    "    return t_c.search_recent_tweets(query=query)"
   ]
  },
  {
   "cell_type": "code",
   "execution_count": 4,
   "id": "0733fdf8",
   "metadata": {},
   "outputs": [],
   "source": [
    "def send_Tweets(c_socket, tweets):\n",
    "    try:\n",
    "        for t in tweets:\n",
    "            msg = t.text + \"\\n\"\n",
    "            print(msg)\n",
    "            c_socket.send(msg.encode('utf-8'))\n",
    "        \n",
    "        return True\n",
    "\n",
    "    except:\n",
    "        print(\"ERROR !\")\n",
    "    return True"
   ]
  },
  {
   "cell_type": "code",
   "execution_count": 5,
   "id": "2864d664",
   "metadata": {},
   "outputs": [
    {
     "name": "stdout",
     "output_type": "stream",
     "text": [
      "listening on port 7755\n",
      "Received request from: ('127.0.0.1', 33288)\n",
      "RT @TheWoodShop5: This awesome ravenclaw flask is is just $15! Can also make them with different designs! This makes a great gift for Harry…\n",
      "\n",
      "RT @selfcovehp: I don’t ship BlaisexRon but this artwork by alek.dar on insta is well good 🤪\n",
      "#art #harrypotter #fanart https://t.co/AoPjUoF…\n",
      "\n",
      "RT @MagicalShipPod: ✨Was there a specific fic or piece of fanart that made you go: \"Omg this ship is EVERYTHING.\" \n",
      "\n",
      "#HarryPotter #FanFictio…\n",
      "\n",
      "RT @LadyKalsifer: Drawing ships ❤\n",
      "#otp #digitalart #fanart #souleater #goodomens #misskoboyashisdragonmaid #harrypotter #drarry #ineffableh…\n",
      "\n",
      "Great Tour: Warner Bros. Studio Tour London - The Making of Harry Potter https://t.co/IY0iUMkOdD #Travel #TravelVideo #Vacation #VacationVideo #TravelPics #Photography #London #harrypotter #WarnerBros #StudioTour #hogwarts #potterhead #wizardingworld #harrypotterworld #hp #vlog\n",
      "\n",
      "RT @TheWoodShop5: This awesome ravenclaw flask is is just $15! Can also make them with different designs! This makes a great gift for Harry…\n",
      "\n",
      "RT @LumineRedworm: Hermione Granger and Draco Malfoy in the sheets. #draco #dracomalfoy #harrypotter #hermione #hermionegranger #hp #HarryP…\n",
      "\n",
      "RT @TheWoodShop5: This awesome ravenclaw flask is is just $15! Can also make them with different designs! This makes a great gift for Harry…\n",
      "\n",
      "⁦@jk_rowling⁩  This is what ⁦@nytimes⁩ thinks of you. Yes they have no shame #HarryPotter  https://t.co/400zB22lir\n",
      "\n",
      "RT @CoranStone: STRANG &amp; POTTER \n",
      "MYSTIC vs MAGIC\n",
      "-\n",
      "If Disney owned Harry...this would happen. 😁\n",
      "-\n",
      "#HarryPotter #Drstrange #mysticvsmagic ht…\n",
      "\n",
      "Snape sketch 🌜\n",
      "(pencil &amp; digital drawing) \n",
      "#HarryPotter #snape #severussnape #fanart #portrait https://t.co/lW7ligT0B7\n",
      "\n",
      "RT @TheWoodShop5: This awesome ravenclaw flask is is just $15! Can also make them with different designs! This makes a great gift for Harry…\n",
      "\n",
      "RT @selfcovehp: I don’t ship BlaisexRon but this artwork by alek.dar on insta is well good 🤪\n",
      "#art #harrypotter #fanart https://t.co/AoPjUoF…\n",
      "\n",
      "RT @MagicalShipPod: ✨Was there a specific fic or piece of fanart that made you go: \"Omg this ship is EVERYTHING.\" \n",
      "\n",
      "#HarryPotter #FanFictio…\n",
      "\n",
      "RT @LadyKalsifer: Drawing ships ❤\n",
      "#otp #digitalart #fanart #souleater #goodomens #misskoboyashisdragonmaid #harrypotter #drarry #ineffableh…\n",
      "\n",
      "Great Tour: Warner Bros. Studio Tour London - The Making of Harry Potter https://t.co/IY0iUMkOdD #Travel #TravelVideo #Vacation #VacationVideo #TravelPics #Photography #London #harrypotter #WarnerBros #StudioTour #hogwarts #potterhead #wizardingworld #harrypotterworld #hp #vlog\n",
      "\n",
      "RT @TheWoodShop5: This awesome ravenclaw flask is is just $15! Can also make them with different designs! This makes a great gift for Harry…\n",
      "\n",
      "RT @LumineRedworm: Hermione Granger and Draco Malfoy in the sheets. #draco #dracomalfoy #harrypotter #hermione #hermionegranger #hp #HarryP…\n",
      "\n",
      "RT @TheWoodShop5: This awesome ravenclaw flask is is just $15! Can also make them with different designs! This makes a great gift for Harry…\n",
      "\n",
      "⁦@jk_rowling⁩  This is what ⁦@nytimes⁩ thinks of you. Yes they have no shame #HarryPotter  https://t.co/400zB22lir\n",
      "\n",
      "Snape sketch 🌜\n",
      "(pencil &amp; digital drawing) \n",
      "#HarryPotter #snape #severussnape #fanart #portrait https://t.co/lW7ligT0B7\n",
      "\n",
      "RT @TheWoodShop5: This awesome ravenclaw flask is is just $15! Can also make them with different designs! This makes a great gift for Harry…\n",
      "\n",
      "RT @selfcovehp: I don’t ship BlaisexRon but this artwork by alek.dar on insta is well good 🤪\n",
      "#art #harrypotter #fanart https://t.co/AoPjUoF…\n",
      "\n",
      "RT @MagicalShipPod: ✨Was there a specific fic or piece of fanart that made you go: \"Omg this ship is EVERYTHING.\" \n",
      "\n",
      "#HarryPotter #FanFictio…\n",
      "\n",
      "RT @LadyKalsifer: Drawing ships ❤\n",
      "#otp #digitalart #fanart #souleater #goodomens #misskoboyashisdragonmaid #harrypotter #drarry #ineffableh…\n",
      "\n",
      "Great Tour: Warner Bros. Studio Tour London - The Making of Harry Potter https://t.co/IY0iUMkOdD #Travel #TravelVideo #Vacation #VacationVideo #TravelPics #Photography #London #harrypotter #WarnerBros #StudioTour #hogwarts #potterhead #wizardingworld #harrypotterworld #hp #vlog\n",
      "\n",
      "RT @TheWoodShop5: This awesome ravenclaw flask is is just $15! Can also make them with different designs! This makes a great gift for Harry…\n",
      "\n",
      "RT @LumineRedworm: Hermione Granger and Draco Malfoy in the sheets. #draco #dracomalfoy #harrypotter #hermione #hermionegranger #hp #HarryP…\n",
      "\n",
      "RT @TheWoodShop5: This awesome ravenclaw flask is is just $15! Can also make them with different designs! This makes a great gift for Harry…\n",
      "\n",
      "⁦@jk_rowling⁩  This is what ⁦@nytimes⁩ thinks of you. Yes they have no shame #HarryPotter  https://t.co/400zB22lir\n",
      "\n",
      "Snape sketch 🌜\n",
      "(pencil &amp; digital drawing) \n",
      "#HarryPotter #snape #severussnape #fanart #portrait https://t.co/lW7ligT0B7\n",
      "\n",
      "RT @TheWoodShop5: This awesome ravenclaw flask is is just $15! Can also make them with different designs! This makes a great gift for Harry…\n",
      "\n",
      "RT @selfcovehp: I don’t ship BlaisexRon but this artwork by alek.dar on insta is well good 🤪\n",
      "#art #harrypotter #fanart https://t.co/AoPjUoF…\n",
      "\n",
      "RT @MagicalShipPod: ✨Was there a specific fic or piece of fanart that made you go: \"Omg this ship is EVERYTHING.\" \n",
      "\n",
      "#HarryPotter #FanFictio…\n",
      "\n",
      "RT @LadyKalsifer: Drawing ships ❤\n",
      "#otp #digitalart #fanart #souleater #goodomens #misskoboyashisdragonmaid #harrypotter #drarry #ineffableh…\n",
      "\n",
      "Great Tour: Warner Bros. Studio Tour London - The Making of Harry Potter https://t.co/IY0iUMkOdD #Travel #TravelVideo #Vacation #VacationVideo #TravelPics #Photography #London #harrypotter #WarnerBros #StudioTour #hogwarts #potterhead #wizardingworld #harrypotterworld #hp #vlog\n",
      "\n",
      "RT @TheWoodShop5: This awesome ravenclaw flask is is just $15! Can also make them with different designs! This makes a great gift for Harry…\n",
      "\n",
      "RT @LumineRedworm: Hermione Granger and Draco Malfoy in the sheets. #draco #dracomalfoy #harrypotter #hermione #hermionegranger #hp #HarryP…\n",
      "\n",
      "RT @TheWoodShop5: This awesome ravenclaw flask is is just $15! Can also make them with different designs! This makes a great gift for Harry…\n",
      "\n",
      "⁦@jk_rowling⁩  This is what ⁦@nytimes⁩ thinks of you. Yes they have no shame #HarryPotter  https://t.co/400zB22lir\n",
      "\n"
     ]
    },
    {
     "ename": "KeyboardInterrupt",
     "evalue": "",
     "output_type": "error",
     "traceback": [
      "\u001b[0;31m---------------------------------------------------------------------------\u001b[0m",
      "\u001b[0;31mKeyboardInterrupt\u001b[0m                         Traceback (most recent call last)",
      "Input \u001b[0;32mIn [5]\u001b[0m, in \u001b[0;36m<module>\u001b[0;34m\u001b[0m\n\u001b[1;32m     18\u001b[0m tweets \u001b[38;5;241m=\u001b[39m get_Tweets(twitter_client, query)\n\u001b[1;32m     19\u001b[0m send_Tweets(c, tweets\u001b[38;5;241m.\u001b[39mdata)\n\u001b[0;32m---> 21\u001b[0m \u001b[43mtime\u001b[49m\u001b[38;5;241;43m.\u001b[39;49m\u001b[43msleep\u001b[49m\u001b[43m(\u001b[49m\u001b[38;5;241;43m10\u001b[39;49m\u001b[43m)\u001b[49m\n",
      "\u001b[0;31mKeyboardInterrupt\u001b[0m: "
     ]
    }
   ],
   "source": [
    "if __name__ == \"__main__\":\n",
    "    s = socket.socket()\n",
    "    host = '127.0.0.1'\n",
    "    port = 7755\n",
    "    s.bind((host, port))\n",
    "    \n",
    "    s.listen(5)\n",
    "    print(\"listening on port {}\".format(port))\n",
    "    \n",
    "    c, addr = s.accept()\n",
    "    print(\"Received request from: \" + str( addr ))\n",
    "    \n",
    "    twitter_client = Client(bearer_token, consumer_key, consumer_secret, access_token, access_secret)\n",
    "    \n",
    "    query = '(#20thAnniversary OR #HarryPotter) lang:en'\n",
    "    \n",
    "    while True:\n",
    "        tweets = get_Tweets(twitter_client, query)\n",
    "        send_Tweets(c, tweets.data)\n",
    "        \n",
    "        time.sleep(10)"
   ]
  },
  {
   "cell_type": "markdown",
   "id": "0958b0c6",
   "metadata": {},
   "source": [
    "Although above isn't \"streaming\", I can still continuously get tweets by putting them in while loop.\n",
    "\n",
    "Now, assuming the above is streaming, I will use PySpark to get this \"streaming\" of data and visualize it in the \"SparkStreaming_stream.ipynb\"."
   ]
  }
 ],
 "metadata": {
  "kernelspec": {
   "display_name": "Python 3 (ipykernel)",
   "language": "python",
   "name": "python3"
  },
  "language_info": {
   "codemirror_mode": {
    "name": "ipython",
    "version": 3
   },
   "file_extension": ".py",
   "mimetype": "text/x-python",
   "name": "python",
   "nbconvert_exporter": "python",
   "pygments_lexer": "ipython3",
   "version": "3.8.10"
  }
 },
 "nbformat": 4,
 "nbformat_minor": 5
}
