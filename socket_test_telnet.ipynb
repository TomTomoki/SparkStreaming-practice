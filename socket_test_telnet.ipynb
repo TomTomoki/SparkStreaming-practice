{
 "cells": [
  {
   "cell_type": "code",
   "execution_count": 1,
   "id": "8ffc35f3",
   "metadata": {},
   "outputs": [
    {
     "name": "stdout",
     "output_type": "stream",
     "text": [
      "Socket successfully created\n",
      "socket binded to 12351\n",
      "socket is listening\n"
     ]
    }
   ],
   "source": [
    "# first of all import the socket library\n",
    "import socket            \n",
    " \n",
    "# next create a socket object\n",
    "s = socket.socket()        \n",
    "print (\"Socket successfully created\")\n",
    " \n",
    "# reserve a port on your computer in our\n",
    "# case it is 12345 but it can be anything\n",
    "port = 12351\n",
    "\n",
    "# Next bind to the port\n",
    "# we have not typed any ip in the ip field\n",
    "# instead we have inputted an empty string\n",
    "# this makes the server listen to requests\n",
    "# coming from other computers on the network\n",
    "s.bind(('127.0.0.1', port))        \n",
    "print (\"socket binded to %s\" %(port))\n",
    " \n",
    "# put the socket into listening mode\n",
    "s.listen(5)    \n",
    "print (\"socket is listening\")           "
   ]
  },
  {
   "cell_type": "code",
   "execution_count": 2,
   "id": "6321c6e3",
   "metadata": {},
   "outputs": [],
   "source": [
    "# Establish connection with client.\n",
    "c, addr = s.accept()    \n",
    "c.send('Got connection from{}\\n'.format(addr).encode())\n",
    "\n",
    "# send a thank you message to the client. encoding to send byte type.\n",
    "c.send('Thank you for connecting!!! '.encode())\n",
    "\n",
    "# Close the connection with the client\n",
    "c.close()"
   ]
  },
  {
   "cell_type": "markdown",
   "id": "08c6c192",
   "metadata": {},
   "source": [
    "On terminal, I can do \"telnet localhost 12351\" to see if this works."
   ]
  },
  {
   "cell_type": "code",
   "execution_count": null,
   "id": "f6b132ec",
   "metadata": {},
   "outputs": [],
   "source": []
  }
 ],
 "metadata": {
  "kernelspec": {
   "display_name": "Python 3 (ipykernel)",
   "language": "python",
   "name": "python3"
  },
  "language_info": {
   "codemirror_mode": {
    "name": "ipython",
    "version": 3
   },
   "file_extension": ".py",
   "mimetype": "text/x-python",
   "name": "python",
   "nbconvert_exporter": "python",
   "pygments_lexer": "ipython3",
   "version": "3.8.10"
  }
 },
 "nbformat": 4,
 "nbformat_minor": 5
}
